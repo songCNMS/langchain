{
 "cells": [
  {
   "cell_type": "code",
   "execution_count": 9,
   "metadata": {},
   "outputs": [],
   "source": [
    "from langchain import OpenAI, PromptTemplate, LLMChain\n",
    "from langchain.text_splitter import CharacterTextSplitter,NLTKTextSplitter,TextSplitter\n",
    "from langchain.chains.mapreduce import MapReduceChain\n",
    "from langchain.prompts import PromptTemplate\n",
    "from langchain.chat_models import AzureChatOpenAI\n",
    "import os\n",
    "from typing import Any, List\n",
    "import openai\n",
    "import openai_config\n",
    "\n",
    "\n",
    "def get_chunks(text, max_len_per_chunk=200):\n",
    "    if len(text) <= max_len_per_chunk: return [text]\n",
    "    paragraph_list = text.split(\"。\")\n",
    "    chunk_list = []\n",
    "    start = 0\n",
    "    while start < len(paragraph_list):\n",
    "        end = start\n",
    "        while end < len(paragraph_list):\n",
    "            end += 1\n",
    "            chunk = \"。\".join(paragraph_list[start:end])\n",
    "            if len(chunk) > max_len_per_chunk:\n",
    "                chunk_list.append(chunk)\n",
    "                break\n",
    "        if end == len(paragraph_list): break\n",
    "        start = max(start+1, end-2)\n",
    "    return chunk_list\n",
    "\n",
    "\n",
    "class ChineseSplitter(TextSplitter):\n",
    "    def __init__(self, **kwargs: Any):\n",
    "        \"\"\"Create a new TextSplitter.\"\"\"\n",
    "        super().__init__(**kwargs)\n",
    "\n",
    "    def split_text(self, text: str) -> List[str]:\n",
    "        return get_chunks(text)\n",
    "\n",
    "\n",
    "llm = AzureChatOpenAI(temperature=0, deployment_name=\"gpt-4-32k\")\n",
    "\n",
    "text_splitter = ChineseSplitter()"
   ]
  },
  {
   "cell_type": "code",
   "execution_count": 10,
   "metadata": {},
   "outputs": [],
   "source": [
    "from langchain.chains.summarize import load_summarize_chain\n",
    "import nltk\n",
    "# nltk.download('punkt')\n",
    "\n",
    "with open(\"text.txt\") as f:\n",
    "    state_of_the_union = f.read()\n",
    "texts = text_splitter.split_text(state_of_the_union)\n",
    "\n",
    "from langchain.docstore.document import Document\n",
    "\n",
    "docs = [Document(page_content=t) for t in texts]\n",
    "\n"
   ]
  },
  {
   "cell_type": "code",
   "execution_count": 11,
   "metadata": {},
   "outputs": [],
   "source": [
    "prompt_template = \"\"\"你是一名标书写作专家，请根据如下描述提取其中对标书写作比较重要的要求和事项，结果文本中请保留章节等结构信息。:\n",
    "\n",
    "\n",
    "{text}\n",
    "\n",
    "\n",
    "摘要为:\"\"\"\n",
    "PROMPT = PromptTemplate(template=prompt_template, input_variables=[\"text\"])\n",
    "chain = load_summarize_chain(llm, chain_type=\"map_reduce\", return_intermediate_steps=True, map_prompt=PROMPT, combine_prompt=PROMPT)\n",
    "abstract = chain({\"input_documents\": docs}, return_only_outputs=True)\n",
    "\n",
    "\n",
    "with open(\"abstract.txt\", \"w\") as f:\n",
    "    f.writelines(abstract)\n",
    "\n"
   ]
  }
 ],
 "metadata": {
  "kernelspec": {
   "display_name": "custom",
   "language": "python",
   "name": "python3"
  },
  "language_info": {
   "codemirror_mode": {
    "name": "ipython",
    "version": 3
   },
   "file_extension": ".py",
   "mimetype": "text/x-python",
   "name": "python",
   "nbconvert_exporter": "python",
   "pygments_lexer": "ipython3",
   "version": "3.10.11"
  },
  "orig_nbformat": 4
 },
 "nbformat": 4,
 "nbformat_minor": 2
}
